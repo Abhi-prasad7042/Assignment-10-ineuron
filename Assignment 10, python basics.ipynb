{
 "cells": [
  {
   "cell_type": "markdown",
   "id": "c812bf3c",
   "metadata": {},
   "source": [
    "### Question1\n",
    "\n",
    "How do you distinguish between shutil.copy() and shutil.copytree()?\n",
    "\n",
    "### Answer:-\n",
    "\n",
    "The shutil.copy() function will copy single file from source to destination and this function will return a string of path of thee copied file.\n",
    "\n",
    "The shutil.copytree() function will copy the entire folder, along with all its files."
   ]
  },
  {
   "cell_type": "code",
   "execution_count": 2,
   "id": "85a59de0",
   "metadata": {},
   "outputs": [
    {
     "data": {
      "text/plain": [
       "'C:\\\\Users\\\\Abhishek\\\\Desktop\\\\Project\\\\image\\\\car-photo.png'"
      ]
     },
     "execution_count": 2,
     "metadata": {},
     "output_type": "execute_result"
    }
   ],
   "source": [
    "import shutil\n",
    "\n",
    "shutil.copy('C:\\\\Users\\\\Abhishek\\\\Desktop\\\\Project\\\\car-photo.png', 'C:\\\\Users\\\\Abhishek\\\\Desktop\\\\Project\\\\image')"
   ]
  },
  {
   "cell_type": "code",
   "execution_count": 4,
   "id": "720c6818",
   "metadata": {},
   "outputs": [
    {
     "data": {
      "text/plain": [
       "'C:\\\\Users\\\\Abhishek\\\\Desktop\\\\Project\\\\new-image-folder'"
      ]
     },
     "execution_count": 4,
     "metadata": {},
     "output_type": "execute_result"
    }
   ],
   "source": [
    "shutil.copytree('C:\\\\Users\\\\Abhishek\\\\Desktop\\\\Project\\\\image', 'C:\\\\Users\\\\Abhishek\\\\Desktop\\\\Project\\\\new-image-folder')"
   ]
  },
  {
   "cell_type": "markdown",
   "id": "a558e205",
   "metadata": {},
   "source": [
    "### Question2\n",
    "\n",
    "What function is used to rename files?\n",
    "\n",
    "### Answer:- \n",
    "\n",
    "The `shutil.move()` function is used to rename the files as well as it is use to move a file."
   ]
  },
  {
   "cell_type": "markdown",
   "id": "3f680e84",
   "metadata": {},
   "source": [
    "### Question3\n",
    "\n",
    "What is the difference between the delete functions in the send2trash and shutil module?\n",
    "\n",
    "### Answer:- \n",
    "\n",
    "If we are using shutil module to delete a file it will delete it permanently but send2trash will not delete file permanently, instead of deleting file permanently it will send the file to recyle bin so if we need that file again we can restore it."
   ]
  },
  {
   "cell_type": "markdown",
   "id": "96319636",
   "metadata": {},
   "source": [
    "### Question4\n",
    "\n",
    "ZipFile objects have a close() method just like File objects close() method. What ZipFile method is equivalent to File objects' open() method?\n",
    "\n",
    "### Answer:-\n",
    "\n",
    "`zipfile.ZipFile()` method is conceptually or we can say it is equivalent to file object open() metod. Here, the first argument is filename, and second argument is mode so, we can say that both method are equivalent."
   ]
  },
  {
   "cell_type": "markdown",
   "id": "4a045231",
   "metadata": {},
   "source": [
    "### Question5\n",
    "\n",
    "Create a programme that searches a folder tree for files with a certain file extension (such as `.pdf` or `.jpg`). Copy these files from whatever location they are in to a new folder.\n",
    "\n",
    "### Answer:- \n",
    "\n"
   ]
  },
  {
   "cell_type": "code",
   "execution_count": 23,
   "id": "fed285c0",
   "metadata": {},
   "outputs": [
    {
     "data": {
      "text/plain": [
       "'d:\\\\'"
      ]
     },
     "execution_count": 23,
     "metadata": {},
     "output_type": "execute_result"
    }
   ],
   "source": [
    "os.path.abspath(\"d:/\")"
   ]
  },
  {
   "cell_type": "code",
   "execution_count": 53,
   "id": "ce1cc894",
   "metadata": {},
   "outputs": [],
   "source": [
    "import os\n",
    "import shutil\n",
    "\n",
    "def find_copy(folder, extensions, destination_folder):\n",
    "    folder = os.path.abspath(folder)\n",
    "    dest_folder = os.path.abspath(destination_folder)\n",
    "    print(dest_folder, folder)\n",
    "    \n",
    "    for foldernames, subfolder, filenames in os.walk(folder):\n",
    "        for filename in filenames:\n",
    "            name , extension = os.path.splitext(filename)\n",
    "            if extension in extensions:\n",
    "                filepath =  os.path.join(foldernames,filename)\n",
    "                shutil.copy(filepath, dest_folder)"
   ]
  },
  {
   "cell_type": "code",
   "execution_count": 54,
   "id": "afcfb682",
   "metadata": {},
   "outputs": [
    {
     "data": {
      "text/plain": [
       "'D:\\\\Photos'"
      ]
     },
     "execution_count": 54,
     "metadata": {},
     "output_type": "execute_result"
    }
   ],
   "source": [
    "path = os.path.abspath('D:\\\\Photos')\n",
    "path"
   ]
  },
  {
   "cell_type": "code",
   "execution_count": 55,
   "id": "8b76f691",
   "metadata": {},
   "outputs": [
    {
     "name": "stdout",
     "output_type": "stream",
     "text": [
      "D:\\Ashu D:\\Photos\n"
     ]
    }
   ],
   "source": [
    "find_copy('D:\\Photos', ['.png','.pdf'], 'D:\\Ashu')"
   ]
  },
  {
   "cell_type": "code",
   "execution_count": null,
   "id": "1119166c",
   "metadata": {},
   "outputs": [],
   "source": []
  }
 ],
 "metadata": {
  "kernelspec": {
   "display_name": "Python 3 (ipykernel)",
   "language": "python",
   "name": "python3"
  },
  "language_info": {
   "codemirror_mode": {
    "name": "ipython",
    "version": 3
   },
   "file_extension": ".py",
   "mimetype": "text/x-python",
   "name": "python",
   "nbconvert_exporter": "python",
   "pygments_lexer": "ipython3",
   "version": "3.8.11"
  }
 },
 "nbformat": 4,
 "nbformat_minor": 5
}
